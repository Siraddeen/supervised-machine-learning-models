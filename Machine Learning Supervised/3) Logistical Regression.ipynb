{
 "cells": [
  {
   "cell_type": "code",
   "execution_count": 1,
   "id": "bbada7f7",
   "metadata": {
    "scrolled": true
   },
   "outputs": [
    {
     "data": {
      "text/plain": [
       "['from sklearn.linear_model import Lasso',\n",
       " 'from sklearn.preprocessing import RobustScaler',\n",
       " 'import textblob',\n",
       " 'from sklearn.preprocessing import LabelEncoder',\n",
       " 'from pyspark import SparkContext',\n",
       " 'from sklearn.model_selection import train_test_split',\n",
       " 'import glob',\n",
       " 'import tensorflow as tf',\n",
       " 'from dask import dataframe as dd',\n",
       " 'from sklearn.decomposition import PCA',\n",
       " 'import re',\n",
       " 'import skimage',\n",
       " 'import matplotlib as mpl',\n",
       " 'from sklearn.ensemble import RandomForestRegressor',\n",
       " 'import bokeh',\n",
       " 'from PIL import Image',\n",
       " 'from sklearn.model_selection import cross_val_score',\n",
       " 'import pickle',\n",
       " 'import pydot',\n",
       " 'from sklearn.impute import SimpleImputer',\n",
       " 'from sklearn.linear_model import LogisticRegression',\n",
       " 'from statsmodels.tsa.arima_model import ARIMA',\n",
       " 'import awswrangler as wr',\n",
       " 'from sklearn import svm',\n",
       " 'from sklearn.linear_model import ElasticNetCV',\n",
       " 'from sklearn.preprocessing import StandardScaler',\n",
       " 'from sklearn import metrics',\n",
       " 'from sklearn.model_selection import GridSearchCV',\n",
       " 'from sklearn.manifold import TSNE',\n",
       " 'from sklearn.feature_extraction.text import CountVectorizer',\n",
       " 'import sys',\n",
       " 'import xgboost as xgb',\n",
       " 'import imutils',\n",
       " 'from sklearn.linear_model import LinearRegression',\n",
       " 'from sklearn.feature_extraction.text import TfidfVectorizer',\n",
       " 'from sklearn.model_selection import RandomizedSearchCV',\n",
       " 'from sklearn.linear_model import LassoCV',\n",
       " 'from sklearn.cluster import KMeans',\n",
       " 'import torch',\n",
       " 'from pathlib import Path',\n",
       " 'from scipy import signal as sg',\n",
       " 'from scipy import stats',\n",
       " 'import fastai',\n",
       " 'from fbprophet import Prophet',\n",
       " 'from sklearn.linear_model import ElasticNet',\n",
       " 'import keras',\n",
       " 'import datetime as dt',\n",
       " 'from sklearn.preprocessing import MinMaxScaler',\n",
       " 'import nltk',\n",
       " 'import os',\n",
       " 'import altair as alt',\n",
       " 'import plotly.express as px',\n",
       " 'from openpyxl import load_workbook',\n",
       " 'from sklearn.ensemble import GradientBoostingRegressor',\n",
       " 'import plotly as py',\n",
       " 'import matplotlib.pyplot as plt',\n",
       " 'import numpy as np',\n",
       " 'from sklearn.preprocessing import PolynomialFeatures',\n",
       " 'from sklearn.ensemble import GradientBoostingClassifier',\n",
       " 'import spacy',\n",
       " 'import dash',\n",
       " 'import tqdm',\n",
       " 'from sklearn.linear_model import Ridge',\n",
       " 'from sklearn.model_selection import StratifiedKFold',\n",
       " 'import statistics',\n",
       " 'import pandas as pd',\n",
       " 'import sklearn',\n",
       " 'import cv2',\n",
       " 'import seaborn as sns',\n",
       " 'import plotly.graph_objs as go',\n",
       " 'from xlrd import open_workbook',\n",
       " 'from sklearn.preprocessing import OneHotEncoder',\n",
       " 'import fbprophet',\n",
       " 'from sklearn.linear_model import RidgeCV',\n",
       " 'import statsmodels.api as sm',\n",
       " 'from sklearn.ensemble import RandomForestClassifier',\n",
       " 'from sklearn.model_selection import KFold',\n",
       " 'import lightgbm as lgb',\n",
       " 'import gensim']"
      ]
     },
     "execution_count": 1,
     "metadata": {},
     "output_type": "execute_result"
    }
   ],
   "source": [
    "from pyforest import*\n",
    "lazy_imports()"
   ]
  },
  {
   "cell_type": "code",
   "execution_count": 2,
   "id": "183c7426",
   "metadata": {},
   "outputs": [
    {
     "data": {
      "application/javascript": [
       "\n",
       "        if (window._pyforest_update_imports_cell) { window._pyforest_update_imports_cell('import pandas as pd'); }\n",
       "    "
      ],
      "text/plain": [
       "<IPython.core.display.Javascript object>"
      ]
     },
     "metadata": {},
     "output_type": "display_data"
    }
   ],
   "source": [
    "df = pd.read_csv('pima-indians-diabetes.csv')"
   ]
  },
  {
   "cell_type": "code",
   "execution_count": 3,
   "id": "efb66cff",
   "metadata": {},
   "outputs": [
    {
     "data": {
      "text/html": [
       "<div>\n",
       "<style scoped>\n",
       "    .dataframe tbody tr th:only-of-type {\n",
       "        vertical-align: middle;\n",
       "    }\n",
       "\n",
       "    .dataframe tbody tr th {\n",
       "        vertical-align: top;\n",
       "    }\n",
       "\n",
       "    .dataframe thead th {\n",
       "        text-align: right;\n",
       "    }\n",
       "</style>\n",
       "<table border=\"1\" class=\"dataframe\">\n",
       "  <thead>\n",
       "    <tr style=\"text-align: right;\">\n",
       "      <th></th>\n",
       "      <th>Preg</th>\n",
       "      <th>Plas</th>\n",
       "      <th>Pres</th>\n",
       "      <th>skin</th>\n",
       "      <th>test</th>\n",
       "      <th>mass</th>\n",
       "      <th>pedi</th>\n",
       "      <th>age</th>\n",
       "      <th>class</th>\n",
       "    </tr>\n",
       "  </thead>\n",
       "  <tbody>\n",
       "    <tr>\n",
       "      <th>0</th>\n",
       "      <td>6</td>\n",
       "      <td>148</td>\n",
       "      <td>72</td>\n",
       "      <td>35</td>\n",
       "      <td>0</td>\n",
       "      <td>33.6</td>\n",
       "      <td>0.627</td>\n",
       "      <td>50</td>\n",
       "      <td>1</td>\n",
       "    </tr>\n",
       "    <tr>\n",
       "      <th>1</th>\n",
       "      <td>1</td>\n",
       "      <td>85</td>\n",
       "      <td>66</td>\n",
       "      <td>29</td>\n",
       "      <td>0</td>\n",
       "      <td>26.6</td>\n",
       "      <td>0.351</td>\n",
       "      <td>31</td>\n",
       "      <td>0</td>\n",
       "    </tr>\n",
       "    <tr>\n",
       "      <th>2</th>\n",
       "      <td>8</td>\n",
       "      <td>183</td>\n",
       "      <td>64</td>\n",
       "      <td>0</td>\n",
       "      <td>0</td>\n",
       "      <td>23.3</td>\n",
       "      <td>0.672</td>\n",
       "      <td>32</td>\n",
       "      <td>1</td>\n",
       "    </tr>\n",
       "    <tr>\n",
       "      <th>3</th>\n",
       "      <td>1</td>\n",
       "      <td>89</td>\n",
       "      <td>66</td>\n",
       "      <td>23</td>\n",
       "      <td>94</td>\n",
       "      <td>28.1</td>\n",
       "      <td>0.167</td>\n",
       "      <td>21</td>\n",
       "      <td>0</td>\n",
       "    </tr>\n",
       "    <tr>\n",
       "      <th>4</th>\n",
       "      <td>0</td>\n",
       "      <td>137</td>\n",
       "      <td>40</td>\n",
       "      <td>35</td>\n",
       "      <td>168</td>\n",
       "      <td>43.1</td>\n",
       "      <td>2.288</td>\n",
       "      <td>33</td>\n",
       "      <td>1</td>\n",
       "    </tr>\n",
       "    <tr>\n",
       "      <th>...</th>\n",
       "      <td>...</td>\n",
       "      <td>...</td>\n",
       "      <td>...</td>\n",
       "      <td>...</td>\n",
       "      <td>...</td>\n",
       "      <td>...</td>\n",
       "      <td>...</td>\n",
       "      <td>...</td>\n",
       "      <td>...</td>\n",
       "    </tr>\n",
       "    <tr>\n",
       "      <th>763</th>\n",
       "      <td>10</td>\n",
       "      <td>101</td>\n",
       "      <td>76</td>\n",
       "      <td>48</td>\n",
       "      <td>180</td>\n",
       "      <td>32.9</td>\n",
       "      <td>0.171</td>\n",
       "      <td>63</td>\n",
       "      <td>0</td>\n",
       "    </tr>\n",
       "    <tr>\n",
       "      <th>764</th>\n",
       "      <td>2</td>\n",
       "      <td>122</td>\n",
       "      <td>70</td>\n",
       "      <td>27</td>\n",
       "      <td>0</td>\n",
       "      <td>36.8</td>\n",
       "      <td>0.340</td>\n",
       "      <td>27</td>\n",
       "      <td>0</td>\n",
       "    </tr>\n",
       "    <tr>\n",
       "      <th>765</th>\n",
       "      <td>5</td>\n",
       "      <td>121</td>\n",
       "      <td>72</td>\n",
       "      <td>23</td>\n",
       "      <td>112</td>\n",
       "      <td>26.2</td>\n",
       "      <td>0.245</td>\n",
       "      <td>30</td>\n",
       "      <td>0</td>\n",
       "    </tr>\n",
       "    <tr>\n",
       "      <th>766</th>\n",
       "      <td>1</td>\n",
       "      <td>126</td>\n",
       "      <td>60</td>\n",
       "      <td>0</td>\n",
       "      <td>0</td>\n",
       "      <td>30.1</td>\n",
       "      <td>0.349</td>\n",
       "      <td>47</td>\n",
       "      <td>1</td>\n",
       "    </tr>\n",
       "    <tr>\n",
       "      <th>767</th>\n",
       "      <td>1</td>\n",
       "      <td>93</td>\n",
       "      <td>70</td>\n",
       "      <td>31</td>\n",
       "      <td>0</td>\n",
       "      <td>30.4</td>\n",
       "      <td>0.315</td>\n",
       "      <td>23</td>\n",
       "      <td>0</td>\n",
       "    </tr>\n",
       "  </tbody>\n",
       "</table>\n",
       "<p>768 rows × 9 columns</p>\n",
       "</div>"
      ],
      "text/plain": [
       "     Preg  Plas  Pres  skin  test  mass   pedi  age  class\n",
       "0       6   148    72    35     0  33.6  0.627   50      1\n",
       "1       1    85    66    29     0  26.6  0.351   31      0\n",
       "2       8   183    64     0     0  23.3  0.672   32      1\n",
       "3       1    89    66    23    94  28.1  0.167   21      0\n",
       "4       0   137    40    35   168  43.1  2.288   33      1\n",
       "..    ...   ...   ...   ...   ...   ...    ...  ...    ...\n",
       "763    10   101    76    48   180  32.9  0.171   63      0\n",
       "764     2   122    70    27     0  36.8  0.340   27      0\n",
       "765     5   121    72    23   112  26.2  0.245   30      0\n",
       "766     1   126    60     0     0  30.1  0.349   47      1\n",
       "767     1    93    70    31     0  30.4  0.315   23      0\n",
       "\n",
       "[768 rows x 9 columns]"
      ]
     },
     "execution_count": 3,
     "metadata": {},
     "output_type": "execute_result"
    }
   ],
   "source": [
    "df"
   ]
  },
  {
   "cell_type": "code",
   "execution_count": 4,
   "id": "760f85ef",
   "metadata": {},
   "outputs": [
    {
     "data": {
      "text/plain": [
       "(768, 9)"
      ]
     },
     "execution_count": 4,
     "metadata": {},
     "output_type": "execute_result"
    }
   ],
   "source": [
    "df.shape"
   ]
  },
  {
   "attachments": {
    "Screenshot%202023-04-28%20121004.png": {
     "image/png": "[encoded data removed]"
    }
   },
   "cell_type": "markdown",
   "id": "2cb8cd29",
   "metadata": {},
   "source": [
    "![Screenshot%202023-04-28%20121004.png](attachment:Screenshot%202023-04-28%20121004.png)"
   ]
  },
  {
   "cell_type": "markdown",
   "id": "84e357f6",
   "metadata": {},
   "source": [
    "### check for any null values"
   ]
  },
  {
   "cell_type": "code",
   "execution_count": 5,
   "id": "82054df3",
   "metadata": {
    "scrolled": true
   },
   "outputs": [
    {
     "data": {
      "text/plain": [
       "Preg     0\n",
       "Plas     0\n",
       "Pres     0\n",
       "skin     0\n",
       "test     0\n",
       "mass     0\n",
       "pedi     0\n",
       "age      0\n",
       "class    0\n",
       "dtype: int64"
      ]
     },
     "execution_count": 5,
     "metadata": {},
     "output_type": "execute_result"
    }
   ],
   "source": [
    "df.isnull().sum()"
   ]
  },
  {
   "cell_type": "code",
   "execution_count": 6,
   "id": "24dedf63",
   "metadata": {},
   "outputs": [
    {
     "data": {
      "text/plain": [
       "False"
      ]
     },
     "execution_count": 6,
     "metadata": {},
     "output_type": "execute_result"
    }
   ],
   "source": [
    "df.isnull().sum().any()"
   ]
  },
  {
   "cell_type": "code",
   "execution_count": 7,
   "id": "c3596fa0",
   "metadata": {},
   "outputs": [],
   "source": [
    "# if you see in test & skin column there is 0 which mean no data available but python consider it as int\n",
    "# so here you have to use your own intitution "
   ]
  },
  {
   "cell_type": "code",
   "execution_count": 8,
   "id": "95affb07",
   "metadata": {},
   "outputs": [],
   "source": [
    "# visualising the data\n",
    "col = list(df)[0:-1]       # list of first 8 columns     in slicing last column is not selectable"
   ]
  },
  {
   "cell_type": "code",
   "execution_count": 9,
   "id": "e9c7be92",
   "metadata": {},
   "outputs": [
    {
     "data": {
      "text/plain": [
       "array([[<AxesSubplot:title={'center':'Preg'}>,\n",
       "        <AxesSubplot:title={'center':'Plas'}>,\n",
       "        <AxesSubplot:title={'center':'Pres'}>],\n",
       "       [<AxesSubplot:title={'center':'skin'}>,\n",
       "        <AxesSubplot:title={'center':'test'}>,\n",
       "        <AxesSubplot:title={'center':'mass'}>],\n",
       "       [<AxesSubplot:title={'center':'pedi'}>,\n",
       "        <AxesSubplot:title={'center':'age'}>, <AxesSubplot:>],\n",
       "       [<AxesSubplot:>, <AxesSubplot:>, <AxesSubplot:>],\n",
       "       [<AxesSubplot:>, <AxesSubplot:>, <AxesSubplot:>],\n",
       "       [<AxesSubplot:>, <AxesSubplot:>, <AxesSubplot:>],\n",
       "       [<AxesSubplot:>, <AxesSubplot:>, <AxesSubplot:>],\n",
       "       [<AxesSubplot:>, <AxesSubplot:>, <AxesSubplot:>],\n",
       "       [<AxesSubplot:>, <AxesSubplot:>, <AxesSubplot:>],\n",
       "       [<AxesSubplot:>, <AxesSubplot:>, <AxesSubplot:>],\n",
       "       [<AxesSubplot:>, <AxesSubplot:>, <AxesSubplot:>],\n",
       "       [<AxesSubplot:>, <AxesSubplot:>, <AxesSubplot:>],\n",
       "       [<AxesSubplot:>, <AxesSubplot:>, <AxesSubplot:>],\n",
       "       [<AxesSubplot:>, <AxesSubplot:>, <AxesSubplot:>]], dtype=object)"
      ]
     },
     "execution_count": 9,
     "metadata": {},
     "output_type": "execute_result"
    },
    {
     "data": {
      "image/png": "[encoded data removed]",
      "text/plain": [
       "<Figure size 1200x5000 with 42 Axes>"
      ]
     },
     "metadata": {},
     "output_type": "display_data"
    }
   ],
   "source": [
    "df[col].hist(bins=80,figsize = (12,50),layout=(14,3))"
   ]
  },
  {
   "cell_type": "code",
   "execution_count": 10,
   "id": "ba4ecc67",
   "metadata": {},
   "outputs": [],
   "source": [
    "# if you see in in test & skin 0 is @ high and it is not good"
   ]
  },
  {
   "cell_type": "markdown",
   "id": "6e0e16a3",
   "metadata": {},
   "source": [
    "## Identify Correlation in data"
   ]
  },
  {
   "cell_type": "code",
   "execution_count": 11,
   "id": "8b46d4af",
   "metadata": {},
   "outputs": [
    {
     "data": {
      "text/html": [
       "<div>\n",
       "<style scoped>\n",
       "    .dataframe tbody tr th:only-of-type {\n",
       "        vertical-align: middle;\n",
       "    }\n",
       "\n",
       "    .dataframe tbody tr th {\n",
       "        vertical-align: top;\n",
       "    }\n",
       "\n",
       "    .dataframe thead th {\n",
       "        text-align: right;\n",
       "    }\n",
       "</style>\n",
       "<table border=\"1\" class=\"dataframe\">\n",
       "  <thead>\n",
       "    <tr style=\"text-align: right;\">\n",
       "      <th></th>\n",
       "      <th>Preg</th>\n",
       "      <th>Plas</th>\n",
       "      <th>Pres</th>\n",
       "      <th>skin</th>\n",
       "      <th>test</th>\n",
       "      <th>mass</th>\n",
       "      <th>pedi</th>\n",
       "      <th>age</th>\n",
       "      <th>class</th>\n",
       "    </tr>\n",
       "  </thead>\n",
       "  <tbody>\n",
       "    <tr>\n",
       "      <th>Preg</th>\n",
       "      <td>1.000000</td>\n",
       "      <td>0.129459</td>\n",
       "      <td>0.141282</td>\n",
       "      <td>-0.081672</td>\n",
       "      <td>-0.073535</td>\n",
       "      <td>0.017683</td>\n",
       "      <td>-0.033523</td>\n",
       "      <td>0.544341</td>\n",
       "      <td>0.221898</td>\n",
       "    </tr>\n",
       "    <tr>\n",
       "      <th>Plas</th>\n",
       "      <td>0.129459</td>\n",
       "      <td>1.000000</td>\n",
       "      <td>0.152590</td>\n",
       "      <td>0.057328</td>\n",
       "      <td>0.331357</td>\n",
       "      <td>0.221071</td>\n",
       "      <td>0.137337</td>\n",
       "      <td>0.263514</td>\n",
       "      <td>0.466581</td>\n",
       "    </tr>\n",
       "    <tr>\n",
       "      <th>Pres</th>\n",
       "      <td>0.141282</td>\n",
       "      <td>0.152590</td>\n",
       "      <td>1.000000</td>\n",
       "      <td>0.207371</td>\n",
       "      <td>0.088933</td>\n",
       "      <td>0.281805</td>\n",
       "      <td>0.041265</td>\n",
       "      <td>0.239528</td>\n",
       "      <td>0.065068</td>\n",
       "    </tr>\n",
       "    <tr>\n",
       "      <th>skin</th>\n",
       "      <td>-0.081672</td>\n",
       "      <td>0.057328</td>\n",
       "      <td>0.207371</td>\n",
       "      <td>1.000000</td>\n",
       "      <td>0.436783</td>\n",
       "      <td>0.392573</td>\n",
       "      <td>0.183928</td>\n",
       "      <td>-0.113970</td>\n",
       "      <td>0.074752</td>\n",
       "    </tr>\n",
       "    <tr>\n",
       "      <th>test</th>\n",
       "      <td>-0.073535</td>\n",
       "      <td>0.331357</td>\n",
       "      <td>0.088933</td>\n",
       "      <td>0.436783</td>\n",
       "      <td>1.000000</td>\n",
       "      <td>0.197859</td>\n",
       "      <td>0.185071</td>\n",
       "      <td>-0.042163</td>\n",
       "      <td>0.130548</td>\n",
       "    </tr>\n",
       "    <tr>\n",
       "      <th>mass</th>\n",
       "      <td>0.017683</td>\n",
       "      <td>0.221071</td>\n",
       "      <td>0.281805</td>\n",
       "      <td>0.392573</td>\n",
       "      <td>0.197859</td>\n",
       "      <td>1.000000</td>\n",
       "      <td>0.140647</td>\n",
       "      <td>0.036242</td>\n",
       "      <td>0.292695</td>\n",
       "    </tr>\n",
       "    <tr>\n",
       "      <th>pedi</th>\n",
       "      <td>-0.033523</td>\n",
       "      <td>0.137337</td>\n",
       "      <td>0.041265</td>\n",
       "      <td>0.183928</td>\n",
       "      <td>0.185071</td>\n",
       "      <td>0.140647</td>\n",
       "      <td>1.000000</td>\n",
       "      <td>0.033561</td>\n",
       "      <td>0.173844</td>\n",
       "    </tr>\n",
       "    <tr>\n",
       "      <th>age</th>\n",
       "      <td>0.544341</td>\n",
       "      <td>0.263514</td>\n",
       "      <td>0.239528</td>\n",
       "      <td>-0.113970</td>\n",
       "      <td>-0.042163</td>\n",
       "      <td>0.036242</td>\n",
       "      <td>0.033561</td>\n",
       "      <td>1.000000</td>\n",
       "      <td>0.238356</td>\n",
       "    </tr>\n",
       "    <tr>\n",
       "      <th>class</th>\n",
       "      <td>0.221898</td>\n",
       "      <td>0.466581</td>\n",
       "      <td>0.065068</td>\n",
       "      <td>0.074752</td>\n",
       "      <td>0.130548</td>\n",
       "      <td>0.292695</td>\n",
       "      <td>0.173844</td>\n",
       "      <td>0.238356</td>\n",
       "      <td>1.000000</td>\n",
       "    </tr>\n",
       "  </tbody>\n",
       "</table>\n",
       "</div>"
      ],
      "text/plain": [
       "           Preg      Plas      Pres      skin      test      mass      pedi  \\\n",
       "Preg   1.000000  0.129459  0.141282 -0.081672 -0.073535  0.017683 -0.033523   \n",
       "Plas   0.129459  1.000000  0.152590  0.057328  0.331357  0.221071  0.137337   \n",
       "Pres   0.141282  0.152590  1.000000  0.207371  0.088933  0.281805  0.041265   \n",
       "skin  -0.081672  0.057328  0.207371  1.000000  0.436783  0.392573  0.183928   \n",
       "test  -0.073535  0.331357  0.088933  0.436783  1.000000  0.197859  0.185071   \n",
       "mass   0.017683  0.221071  0.281805  0.392573  0.197859  1.000000  0.140647   \n",
       "pedi  -0.033523  0.137337  0.041265  0.183928  0.185071  0.140647  1.000000   \n",
       "age    0.544341  0.263514  0.239528 -0.113970 -0.042163  0.036242  0.033561   \n",
       "class  0.221898  0.466581  0.065068  0.074752  0.130548  0.292695  0.173844   \n",
       "\n",
       "            age     class  \n",
       "Preg   0.544341  0.221898  \n",
       "Plas   0.263514  0.466581  \n",
       "Pres   0.239528  0.065068  \n",
       "skin  -0.113970  0.074752  \n",
       "test  -0.042163  0.130548  \n",
       "mass   0.036242  0.292695  \n",
       "pedi   0.033561  0.173844  \n",
       "age    1.000000  0.238356  \n",
       "class  0.238356  1.000000  "
      ]
     },
     "execution_count": 11,
     "metadata": {},
     "output_type": "execute_result"
    }
   ],
   "source": [
    "df.corr()"
   ]
  },
  {
   "cell_type": "code",
   "execution_count": 12,
   "id": "1af79a0e",
   "metadata": {},
   "outputs": [
    {
     "data": {
      "application/javascript": [
       "\n",
       "        if (window._pyforest_update_imports_cell) { window._pyforest_update_imports_cell('import pandas as pd\\nimport matplotlib.pyplot as plt'); }\n",
       "    "
      ],
      "text/plain": [
       "<IPython.core.display.Javascript object>"
      ]
     },
     "metadata": {},
     "output_type": "display_data"
    },
    {
     "data": {
      "application/javascript": [
       "\n",
       "        if (window._pyforest_update_imports_cell) { window._pyforest_update_imports_cell('import pandas as pd\\nimport matplotlib.pyplot as plt\\nimport seaborn as sns'); }\n",
       "    "
      ],
      "text/plain": [
       "<IPython.core.display.Javascript object>"
      ]
     },
     "metadata": {},
     "output_type": "display_data"
    },
    {
     "data": {
      "application/javascript": [
       "\n",
       "        if (window._pyforest_update_imports_cell) { window._pyforest_update_imports_cell('import pandas as pd\\nimport matplotlib.pyplot as plt\\nimport seaborn as sns'); }\n",
       "    "
      ],
      "text/plain": [
       "<IPython.core.display.Javascript object>"
      ]
     },
     "metadata": {},
     "output_type": "display_data"
    },
    {
     "data": {
      "application/javascript": [
       "\n",
       "        if (window._pyforest_update_imports_cell) { window._pyforest_update_imports_cell('import pandas as pd\\nimport matplotlib.pyplot as plt\\nimport seaborn as sns'); }\n",
       "    "
      ],
      "text/plain": [
       "<IPython.core.display.Javascript object>"
      ]
     },
     "metadata": {},
     "output_type": "display_data"
    },
    {
     "data": {
      "image/png": "[encoded data removed]",
      "text/plain": [
       "<Figure size 3000x1500 with 2 Axes>"
      ]
     },
     "metadata": {},
     "output_type": "display_data"
    }
   ],
   "source": [
    "plt.figure(figsize=(30,15))\n",
    "sns.heatmap(df.corr(),annot =True,square=True,vmax=1,cmap='viridis')\n",
    "plt.title('Correlation between different attnbutes')\n",
    "plt.show()"
   ]
  },
  {
   "cell_type": "code",
   "execution_count": 13,
   "id": "51603ff8",
   "metadata": {},
   "outputs": [],
   "source": [
    "#sns.pairplot(df)"
   ]
  },
  {
   "cell_type": "code",
   "execution_count": 14,
   "id": "35cffece",
   "metadata": {},
   "outputs": [],
   "source": [
    "#sns.pairplot(df,diag_kind='kde')"
   ]
  },
  {
   "cell_type": "markdown",
   "id": "b448ad0c",
   "metadata": {},
   "source": [
    "## Calculate diabetes ratio of True/False from outcome variable"
   ]
  },
  {
   "cell_type": "code",
   "execution_count": 15,
   "id": "265636f6",
   "metadata": {},
   "outputs": [
    {
     "data": {
      "text/plain": [
       "0    500\n",
       "1    268\n",
       "Name: class, dtype: int64"
      ]
     },
     "execution_count": 15,
     "metadata": {},
     "output_type": "execute_result"
    }
   ],
   "source": [
    "# if you see in data set last column class 0 means no diabetes    &   1 means diabets \n",
    "# but python does not understand this            so\n",
    "\n",
    "df['class'].value_counts()\n",
    "                   # as you can see here our data is in imbalance state     & we will deal with dataumbalance in future"
   ]
  },
  {
   "cell_type": "markdown",
   "id": "c3378007",
   "metadata": {},
   "source": [
    "So we have 34.90% people in current data set who have diabetes and rest of 65.10% doesn't have diabetes."
   ]
  },
  {
   "cell_type": "code",
   "execution_count": 16,
   "id": "a44a8773",
   "metadata": {},
   "outputs": [
    {
     "data": {
      "text/html": [
       "<div>\n",
       "<style scoped>\n",
       "    .dataframe tbody tr th:only-of-type {\n",
       "        vertical-align: middle;\n",
       "    }\n",
       "\n",
       "    .dataframe tbody tr th {\n",
       "        vertical-align: top;\n",
       "    }\n",
       "\n",
       "    .dataframe thead th {\n",
       "        text-align: right;\n",
       "    }\n",
       "</style>\n",
       "<table border=\"1\" class=\"dataframe\">\n",
       "  <thead>\n",
       "    <tr style=\"text-align: right;\">\n",
       "      <th></th>\n",
       "      <th>Preg</th>\n",
       "      <th>Plas</th>\n",
       "      <th>Pres</th>\n",
       "      <th>skin</th>\n",
       "      <th>test</th>\n",
       "      <th>mass</th>\n",
       "      <th>pedi</th>\n",
       "      <th>age</th>\n",
       "      <th>class</th>\n",
       "    </tr>\n",
       "  </thead>\n",
       "  <tbody>\n",
       "    <tr>\n",
       "      <th>0</th>\n",
       "      <td>6</td>\n",
       "      <td>148</td>\n",
       "      <td>72</td>\n",
       "      <td>35</td>\n",
       "      <td>0</td>\n",
       "      <td>33.6</td>\n",
       "      <td>0.627</td>\n",
       "      <td>50</td>\n",
       "      <td>1</td>\n",
       "    </tr>\n",
       "    <tr>\n",
       "      <th>1</th>\n",
       "      <td>1</td>\n",
       "      <td>85</td>\n",
       "      <td>66</td>\n",
       "      <td>29</td>\n",
       "      <td>0</td>\n",
       "      <td>26.6</td>\n",
       "      <td>0.351</td>\n",
       "      <td>31</td>\n",
       "      <td>0</td>\n",
       "    </tr>\n",
       "    <tr>\n",
       "      <th>2</th>\n",
       "      <td>8</td>\n",
       "      <td>183</td>\n",
       "      <td>64</td>\n",
       "      <td>0</td>\n",
       "      <td>0</td>\n",
       "      <td>23.3</td>\n",
       "      <td>0.672</td>\n",
       "      <td>32</td>\n",
       "      <td>1</td>\n",
       "    </tr>\n",
       "    <tr>\n",
       "      <th>3</th>\n",
       "      <td>1</td>\n",
       "      <td>89</td>\n",
       "      <td>66</td>\n",
       "      <td>23</td>\n",
       "      <td>94</td>\n",
       "      <td>28.1</td>\n",
       "      <td>0.167</td>\n",
       "      <td>21</td>\n",
       "      <td>0</td>\n",
       "    </tr>\n",
       "    <tr>\n",
       "      <th>4</th>\n",
       "      <td>0</td>\n",
       "      <td>137</td>\n",
       "      <td>40</td>\n",
       "      <td>35</td>\n",
       "      <td>168</td>\n",
       "      <td>43.1</td>\n",
       "      <td>2.288</td>\n",
       "      <td>33</td>\n",
       "      <td>1</td>\n",
       "    </tr>\n",
       "  </tbody>\n",
       "</table>\n",
       "</div>"
      ],
      "text/plain": [
       "   Preg  Plas  Pres  skin  test  mass   pedi  age  class\n",
       "0     6   148    72    35     0  33.6  0.627   50      1\n",
       "1     1    85    66    29     0  26.6  0.351   31      0\n",
       "2     8   183    64     0     0  23.3  0.672   32      1\n",
       "3     1    89    66    23    94  28.1  0.167   21      0\n",
       "4     0   137    40    35   168  43.1  2.288   33      1"
      ]
     },
     "execution_count": 16,
     "metadata": {},
     "output_type": "execute_result"
    }
   ],
   "source": [
    "df.head()"
   ]
  },
  {
   "cell_type": "markdown",
   "id": "e9b6a884",
   "metadata": {},
   "source": [
    "# Spliting the data"
   ]
  },
  {
   "cell_type": "markdown",
   "id": "4cedaf55",
   "metadata": {},
   "source": [
    "We will use 70% of data for training and 30% for testing."
   ]
  },
  {
   "cell_type": "code",
   "execution_count": 17,
   "id": "2905bce1",
   "metadata": {},
   "outputs": [],
   "source": [
    "from sklearn.model_selection import train_test_split"
   ]
  },
  {
   "cell_type": "code",
   "execution_count": 18,
   "id": "392974e1",
   "metadata": {},
   "outputs": [],
   "source": [
    "X = df.drop('class',axis=1)\n",
    "Y = df['class']"
   ]
  },
  {
   "cell_type": "code",
   "execution_count": 19,
   "id": "9f33e03b",
   "metadata": {},
   "outputs": [],
   "source": [
    "x_train,x_test,y_train,y_test = train_test_split(X,Y,test_size=0.3,random_state=1)"
   ]
  },
  {
   "cell_type": "code",
   "execution_count": 20,
   "id": "c961a34d",
   "metadata": {},
   "outputs": [
    {
     "data": {
      "text/html": [
       "<div>\n",
       "<style scoped>\n",
       "    .dataframe tbody tr th:only-of-type {\n",
       "        vertical-align: middle;\n",
       "    }\n",
       "\n",
       "    .dataframe tbody tr th {\n",
       "        vertical-align: top;\n",
       "    }\n",
       "\n",
       "    .dataframe thead th {\n",
       "        text-align: right;\n",
       "    }\n",
       "</style>\n",
       "<table border=\"1\" class=\"dataframe\">\n",
       "  <thead>\n",
       "    <tr style=\"text-align: right;\">\n",
       "      <th></th>\n",
       "      <th>Preg</th>\n",
       "      <th>Plas</th>\n",
       "      <th>Pres</th>\n",
       "      <th>skin</th>\n",
       "      <th>test</th>\n",
       "      <th>mass</th>\n",
       "      <th>pedi</th>\n",
       "      <th>age</th>\n",
       "    </tr>\n",
       "  </thead>\n",
       "  <tbody>\n",
       "    <tr>\n",
       "      <th>88</th>\n",
       "      <td>15</td>\n",
       "      <td>136</td>\n",
       "      <td>70</td>\n",
       "      <td>32</td>\n",
       "      <td>110</td>\n",
       "      <td>37.1</td>\n",
       "      <td>0.153</td>\n",
       "      <td>43</td>\n",
       "    </tr>\n",
       "    <tr>\n",
       "      <th>467</th>\n",
       "      <td>0</td>\n",
       "      <td>97</td>\n",
       "      <td>64</td>\n",
       "      <td>36</td>\n",
       "      <td>100</td>\n",
       "      <td>36.8</td>\n",
       "      <td>0.600</td>\n",
       "      <td>25</td>\n",
       "    </tr>\n",
       "    <tr>\n",
       "      <th>550</th>\n",
       "      <td>1</td>\n",
       "      <td>116</td>\n",
       "      <td>70</td>\n",
       "      <td>28</td>\n",
       "      <td>0</td>\n",
       "      <td>27.4</td>\n",
       "      <td>0.204</td>\n",
       "      <td>21</td>\n",
       "    </tr>\n",
       "    <tr>\n",
       "      <th>147</th>\n",
       "      <td>2</td>\n",
       "      <td>106</td>\n",
       "      <td>64</td>\n",
       "      <td>35</td>\n",
       "      <td>119</td>\n",
       "      <td>30.5</td>\n",
       "      <td>1.400</td>\n",
       "      <td>34</td>\n",
       "    </tr>\n",
       "    <tr>\n",
       "      <th>481</th>\n",
       "      <td>0</td>\n",
       "      <td>123</td>\n",
       "      <td>88</td>\n",
       "      <td>37</td>\n",
       "      <td>0</td>\n",
       "      <td>35.2</td>\n",
       "      <td>0.197</td>\n",
       "      <td>29</td>\n",
       "    </tr>\n",
       "    <tr>\n",
       "      <th>...</th>\n",
       "      <td>...</td>\n",
       "      <td>...</td>\n",
       "      <td>...</td>\n",
       "      <td>...</td>\n",
       "      <td>...</td>\n",
       "      <td>...</td>\n",
       "      <td>...</td>\n",
       "      <td>...</td>\n",
       "    </tr>\n",
       "    <tr>\n",
       "      <th>645</th>\n",
       "      <td>2</td>\n",
       "      <td>157</td>\n",
       "      <td>74</td>\n",
       "      <td>35</td>\n",
       "      <td>440</td>\n",
       "      <td>39.4</td>\n",
       "      <td>0.134</td>\n",
       "      <td>30</td>\n",
       "    </tr>\n",
       "    <tr>\n",
       "      <th>715</th>\n",
       "      <td>7</td>\n",
       "      <td>187</td>\n",
       "      <td>50</td>\n",
       "      <td>33</td>\n",
       "      <td>392</td>\n",
       "      <td>33.9</td>\n",
       "      <td>0.826</td>\n",
       "      <td>34</td>\n",
       "    </tr>\n",
       "    <tr>\n",
       "      <th>72</th>\n",
       "      <td>13</td>\n",
       "      <td>126</td>\n",
       "      <td>90</td>\n",
       "      <td>0</td>\n",
       "      <td>0</td>\n",
       "      <td>43.4</td>\n",
       "      <td>0.583</td>\n",
       "      <td>42</td>\n",
       "    </tr>\n",
       "    <tr>\n",
       "      <th>235</th>\n",
       "      <td>4</td>\n",
       "      <td>171</td>\n",
       "      <td>72</td>\n",
       "      <td>0</td>\n",
       "      <td>0</td>\n",
       "      <td>43.6</td>\n",
       "      <td>0.479</td>\n",
       "      <td>26</td>\n",
       "    </tr>\n",
       "    <tr>\n",
       "      <th>37</th>\n",
       "      <td>9</td>\n",
       "      <td>102</td>\n",
       "      <td>76</td>\n",
       "      <td>37</td>\n",
       "      <td>0</td>\n",
       "      <td>32.9</td>\n",
       "      <td>0.665</td>\n",
       "      <td>46</td>\n",
       "    </tr>\n",
       "  </tbody>\n",
       "</table>\n",
       "<p>537 rows × 8 columns</p>\n",
       "</div>"
      ],
      "text/plain": [
       "     Preg  Plas  Pres  skin  test  mass   pedi  age\n",
       "88     15   136    70    32   110  37.1  0.153   43\n",
       "467     0    97    64    36   100  36.8  0.600   25\n",
       "550     1   116    70    28     0  27.4  0.204   21\n",
       "147     2   106    64    35   119  30.5  1.400   34\n",
       "481     0   123    88    37     0  35.2  0.197   29\n",
       "..    ...   ...   ...   ...   ...   ...    ...  ...\n",
       "645     2   157    74    35   440  39.4  0.134   30\n",
       "715     7   187    50    33   392  33.9  0.826   34\n",
       "72     13   126    90     0     0  43.4  0.583   42\n",
       "235     4   171    72     0     0  43.6  0.479   26\n",
       "37      9   102    76    37     0  32.9  0.665   46\n",
       "\n",
       "[537 rows x 8 columns]"
      ]
     },
     "execution_count": 20,
     "metadata": {},
     "output_type": "execute_result"
    }
   ],
   "source": [
    "x_train"
   ]
  },
  {
   "cell_type": "code",
   "execution_count": 21,
   "id": "fa9dadf8",
   "metadata": {},
   "outputs": [
    {
     "data": {
      "text/html": [
       "<div>\n",
       "<style scoped>\n",
       "    .dataframe tbody tr th:only-of-type {\n",
       "        vertical-align: middle;\n",
       "    }\n",
       "\n",
       "    .dataframe tbody tr th {\n",
       "        vertical-align: top;\n",
       "    }\n",
       "\n",
       "    .dataframe thead th {\n",
       "        text-align: right;\n",
       "    }\n",
       "</style>\n",
       "<table border=\"1\" class=\"dataframe\">\n",
       "  <thead>\n",
       "    <tr style=\"text-align: right;\">\n",
       "      <th></th>\n",
       "      <th>Preg</th>\n",
       "      <th>Plas</th>\n",
       "      <th>Pres</th>\n",
       "      <th>skin</th>\n",
       "      <th>test</th>\n",
       "      <th>mass</th>\n",
       "      <th>pedi</th>\n",
       "      <th>age</th>\n",
       "    </tr>\n",
       "  </thead>\n",
       "  <tbody>\n",
       "    <tr>\n",
       "      <th>285</th>\n",
       "      <td>7</td>\n",
       "      <td>136</td>\n",
       "      <td>74</td>\n",
       "      <td>26</td>\n",
       "      <td>135</td>\n",
       "      <td>26.0</td>\n",
       "      <td>0.647</td>\n",
       "      <td>51</td>\n",
       "    </tr>\n",
       "    <tr>\n",
       "      <th>101</th>\n",
       "      <td>1</td>\n",
       "      <td>151</td>\n",
       "      <td>60</td>\n",
       "      <td>0</td>\n",
       "      <td>0</td>\n",
       "      <td>26.1</td>\n",
       "      <td>0.179</td>\n",
       "      <td>22</td>\n",
       "    </tr>\n",
       "    <tr>\n",
       "      <th>581</th>\n",
       "      <td>6</td>\n",
       "      <td>109</td>\n",
       "      <td>60</td>\n",
       "      <td>27</td>\n",
       "      <td>0</td>\n",
       "      <td>25.0</td>\n",
       "      <td>0.206</td>\n",
       "      <td>27</td>\n",
       "    </tr>\n",
       "    <tr>\n",
       "      <th>352</th>\n",
       "      <td>3</td>\n",
       "      <td>61</td>\n",
       "      <td>82</td>\n",
       "      <td>28</td>\n",
       "      <td>0</td>\n",
       "      <td>34.4</td>\n",
       "      <td>0.243</td>\n",
       "      <td>46</td>\n",
       "    </tr>\n",
       "    <tr>\n",
       "      <th>726</th>\n",
       "      <td>1</td>\n",
       "      <td>116</td>\n",
       "      <td>78</td>\n",
       "      <td>29</td>\n",
       "      <td>180</td>\n",
       "      <td>36.1</td>\n",
       "      <td>0.496</td>\n",
       "      <td>25</td>\n",
       "    </tr>\n",
       "    <tr>\n",
       "      <th>...</th>\n",
       "      <td>...</td>\n",
       "      <td>...</td>\n",
       "      <td>...</td>\n",
       "      <td>...</td>\n",
       "      <td>...</td>\n",
       "      <td>...</td>\n",
       "      <td>...</td>\n",
       "      <td>...</td>\n",
       "    </tr>\n",
       "    <tr>\n",
       "      <th>241</th>\n",
       "      <td>4</td>\n",
       "      <td>91</td>\n",
       "      <td>70</td>\n",
       "      <td>32</td>\n",
       "      <td>88</td>\n",
       "      <td>33.1</td>\n",
       "      <td>0.446</td>\n",
       "      <td>22</td>\n",
       "    </tr>\n",
       "    <tr>\n",
       "      <th>599</th>\n",
       "      <td>1</td>\n",
       "      <td>109</td>\n",
       "      <td>38</td>\n",
       "      <td>18</td>\n",
       "      <td>120</td>\n",
       "      <td>23.1</td>\n",
       "      <td>0.407</td>\n",
       "      <td>26</td>\n",
       "    </tr>\n",
       "    <tr>\n",
       "      <th>650</th>\n",
       "      <td>1</td>\n",
       "      <td>91</td>\n",
       "      <td>54</td>\n",
       "      <td>25</td>\n",
       "      <td>100</td>\n",
       "      <td>25.2</td>\n",
       "      <td>0.234</td>\n",
       "      <td>23</td>\n",
       "    </tr>\n",
       "    <tr>\n",
       "      <th>11</th>\n",
       "      <td>10</td>\n",
       "      <td>168</td>\n",
       "      <td>74</td>\n",
       "      <td>0</td>\n",
       "      <td>0</td>\n",
       "      <td>38.0</td>\n",
       "      <td>0.537</td>\n",
       "      <td>34</td>\n",
       "    </tr>\n",
       "    <tr>\n",
       "      <th>214</th>\n",
       "      <td>9</td>\n",
       "      <td>112</td>\n",
       "      <td>82</td>\n",
       "      <td>32</td>\n",
       "      <td>175</td>\n",
       "      <td>34.2</td>\n",
       "      <td>0.260</td>\n",
       "      <td>36</td>\n",
       "    </tr>\n",
       "  </tbody>\n",
       "</table>\n",
       "<p>231 rows × 8 columns</p>\n",
       "</div>"
      ],
      "text/plain": [
       "     Preg  Plas  Pres  skin  test  mass   pedi  age\n",
       "285     7   136    74    26   135  26.0  0.647   51\n",
       "101     1   151    60     0     0  26.1  0.179   22\n",
       "581     6   109    60    27     0  25.0  0.206   27\n",
       "352     3    61    82    28     0  34.4  0.243   46\n",
       "726     1   116    78    29   180  36.1  0.496   25\n",
       "..    ...   ...   ...   ...   ...   ...    ...  ...\n",
       "241     4    91    70    32    88  33.1  0.446   22\n",
       "599     1   109    38    18   120  23.1  0.407   26\n",
       "650     1    91    54    25   100  25.2  0.234   23\n",
       "11     10   168    74     0     0  38.0  0.537   34\n",
       "214     9   112    82    32   175  34.2  0.260   36\n",
       "\n",
       "[231 rows x 8 columns]"
      ]
     },
     "execution_count": 21,
     "metadata": {},
     "output_type": "execute_result"
    }
   ],
   "source": [
    "x_test"
   ]
  },
  {
   "cell_type": "code",
   "execution_count": 22,
   "id": "2d96d611",
   "metadata": {},
   "outputs": [
    {
     "data": {
      "text/plain": [
       "88     1\n",
       "467    0\n",
       "550    0\n",
       "147    0\n",
       "481    0\n",
       "      ..\n",
       "645    0\n",
       "715    1\n",
       "72     1\n",
       "235    1\n",
       "37     1\n",
       "Name: class, Length: 537, dtype: int64"
      ]
     },
     "execution_count": 22,
     "metadata": {},
     "output_type": "execute_result"
    }
   ],
   "source": [
    "y_train"
   ]
  },
  {
   "cell_type": "code",
   "execution_count": 23,
   "id": "f1f131d5",
   "metadata": {},
   "outputs": [
    {
     "data": {
      "text/plain": [
       "285    0\n",
       "101    0\n",
       "581    0\n",
       "352    0\n",
       "726    0\n",
       "      ..\n",
       "241    0\n",
       "599    0\n",
       "650    0\n",
       "11     1\n",
       "214    1\n",
       "Name: class, Length: 231, dtype: int64"
      ]
     },
     "execution_count": 23,
     "metadata": {},
     "output_type": "execute_result"
    }
   ],
   "source": [
    "y_test"
   ]
  },
  {
   "cell_type": "code",
   "execution_count": 24,
   "id": "06b5174d",
   "metadata": {},
   "outputs": [
    {
     "name": "stdout",
     "output_type": "stream",
     "text": [
      "69.921875% is the training set\n",
      "30.078125% is the test set\n"
     ]
    }
   ],
   "source": [
    "print('{}% is the training set'.format((len(x_train)/len(df))*100))\n",
    "print('{}% is the test set'.format((len(x_test)/len(df))*100))"
   ]
  },
  {
   "cell_type": "markdown",
   "id": "0fec817a",
   "metadata": {},
   "source": [
    "# Data Preparation"
   ]
  },
  {
   "cell_type": "markdown",
   "id": "9f6570b9",
   "metadata": {},
   "source": [
    "### check for missing or hidden vakues"
   ]
  },
  {
   "cell_type": "code",
   "execution_count": 25,
   "id": "91224337",
   "metadata": {},
   "outputs": [
    {
     "data": {
      "text/html": [
       "<div>\n",
       "<style scoped>\n",
       "    .dataframe tbody tr th:only-of-type {\n",
       "        vertical-align: middle;\n",
       "    }\n",
       "\n",
       "    .dataframe tbody tr th {\n",
       "        vertical-align: top;\n",
       "    }\n",
       "\n",
       "    .dataframe thead th {\n",
       "        text-align: right;\n",
       "    }\n",
       "</style>\n",
       "<table border=\"1\" class=\"dataframe\">\n",
       "  <thead>\n",
       "    <tr style=\"text-align: right;\">\n",
       "      <th></th>\n",
       "      <th>Preg</th>\n",
       "      <th>Plas</th>\n",
       "      <th>Pres</th>\n",
       "      <th>skin</th>\n",
       "      <th>test</th>\n",
       "      <th>mass</th>\n",
       "      <th>pedi</th>\n",
       "      <th>age</th>\n",
       "    </tr>\n",
       "  </thead>\n",
       "  <tbody>\n",
       "    <tr>\n",
       "      <th>88</th>\n",
       "      <td>15</td>\n",
       "      <td>136</td>\n",
       "      <td>70</td>\n",
       "      <td>32</td>\n",
       "      <td>110</td>\n",
       "      <td>37.1</td>\n",
       "      <td>0.153</td>\n",
       "      <td>43</td>\n",
       "    </tr>\n",
       "    <tr>\n",
       "      <th>467</th>\n",
       "      <td>0</td>\n",
       "      <td>97</td>\n",
       "      <td>64</td>\n",
       "      <td>36</td>\n",
       "      <td>100</td>\n",
       "      <td>36.8</td>\n",
       "      <td>0.600</td>\n",
       "      <td>25</td>\n",
       "    </tr>\n",
       "    <tr>\n",
       "      <th>550</th>\n",
       "      <td>1</td>\n",
       "      <td>116</td>\n",
       "      <td>70</td>\n",
       "      <td>28</td>\n",
       "      <td>0</td>\n",
       "      <td>27.4</td>\n",
       "      <td>0.204</td>\n",
       "      <td>21</td>\n",
       "    </tr>\n",
       "    <tr>\n",
       "      <th>147</th>\n",
       "      <td>2</td>\n",
       "      <td>106</td>\n",
       "      <td>64</td>\n",
       "      <td>35</td>\n",
       "      <td>119</td>\n",
       "      <td>30.5</td>\n",
       "      <td>1.400</td>\n",
       "      <td>34</td>\n",
       "    </tr>\n",
       "    <tr>\n",
       "      <th>481</th>\n",
       "      <td>0</td>\n",
       "      <td>123</td>\n",
       "      <td>88</td>\n",
       "      <td>37</td>\n",
       "      <td>0</td>\n",
       "      <td>35.2</td>\n",
       "      <td>0.197</td>\n",
       "      <td>29</td>\n",
       "    </tr>\n",
       "    <tr>\n",
       "      <th>412</th>\n",
       "      <td>1</td>\n",
       "      <td>143</td>\n",
       "      <td>84</td>\n",
       "      <td>23</td>\n",
       "      <td>310</td>\n",
       "      <td>42.4</td>\n",
       "      <td>1.076</td>\n",
       "      <td>22</td>\n",
       "    </tr>\n",
       "    <tr>\n",
       "      <th>248</th>\n",
       "      <td>9</td>\n",
       "      <td>124</td>\n",
       "      <td>70</td>\n",
       "      <td>33</td>\n",
       "      <td>402</td>\n",
       "      <td>35.4</td>\n",
       "      <td>0.282</td>\n",
       "      <td>34</td>\n",
       "    </tr>\n",
       "    <tr>\n",
       "      <th>642</th>\n",
       "      <td>6</td>\n",
       "      <td>147</td>\n",
       "      <td>80</td>\n",
       "      <td>0</td>\n",
       "      <td>0</td>\n",
       "      <td>29.5</td>\n",
       "      <td>0.178</td>\n",
       "      <td>50</td>\n",
       "    </tr>\n",
       "    <tr>\n",
       "      <th>519</th>\n",
       "      <td>6</td>\n",
       "      <td>129</td>\n",
       "      <td>90</td>\n",
       "      <td>7</td>\n",
       "      <td>326</td>\n",
       "      <td>19.6</td>\n",
       "      <td>0.582</td>\n",
       "      <td>60</td>\n",
       "    </tr>\n",
       "    <tr>\n",
       "      <th>730</th>\n",
       "      <td>3</td>\n",
       "      <td>130</td>\n",
       "      <td>78</td>\n",
       "      <td>23</td>\n",
       "      <td>79</td>\n",
       "      <td>28.4</td>\n",
       "      <td>0.323</td>\n",
       "      <td>34</td>\n",
       "    </tr>\n",
       "  </tbody>\n",
       "</table>\n",
       "</div>"
      ],
      "text/plain": [
       "     Preg  Plas  Pres  skin  test  mass   pedi  age\n",
       "88     15   136    70    32   110  37.1  0.153   43\n",
       "467     0    97    64    36   100  36.8  0.600   25\n",
       "550     1   116    70    28     0  27.4  0.204   21\n",
       "147     2   106    64    35   119  30.5  1.400   34\n",
       "481     0   123    88    37     0  35.2  0.197   29\n",
       "412     1   143    84    23   310  42.4  1.076   22\n",
       "248     9   124    70    33   402  35.4  0.282   34\n",
       "642     6   147    80     0     0  29.5  0.178   50\n",
       "519     6   129    90     7   326  19.6  0.582   60\n",
       "730     3   130    78    23    79  28.4  0.323   34"
      ]
     },
     "execution_count": 25,
     "metadata": {},
     "output_type": "execute_result"
    }
   ],
   "source": [
    "x_train.head(10)"
   ]
  },
  {
   "cell_type": "code",
   "execution_count": 26,
   "id": "3cf231fc",
   "metadata": {},
   "outputs": [
    {
     "data": {
      "text/html": [
       "<div>\n",
       "<style scoped>\n",
       "    .dataframe tbody tr th:only-of-type {\n",
       "        vertical-align: middle;\n",
       "    }\n",
       "\n",
       "    .dataframe tbody tr th {\n",
       "        vertical-align: top;\n",
       "    }\n",
       "\n",
       "    .dataframe thead th {\n",
       "        text-align: right;\n",
       "    }\n",
       "</style>\n",
       "<table border=\"1\" class=\"dataframe\">\n",
       "  <thead>\n",
       "    <tr style=\"text-align: right;\">\n",
       "      <th></th>\n",
       "      <th>Preg</th>\n",
       "      <th>Plas</th>\n",
       "      <th>Pres</th>\n",
       "      <th>skin</th>\n",
       "      <th>test</th>\n",
       "      <th>mass</th>\n",
       "      <th>pedi</th>\n",
       "      <th>age</th>\n",
       "    </tr>\n",
       "  </thead>\n",
       "  <tbody>\n",
       "    <tr>\n",
       "      <th>285</th>\n",
       "      <td>7</td>\n",
       "      <td>136</td>\n",
       "      <td>74</td>\n",
       "      <td>26</td>\n",
       "      <td>135</td>\n",
       "      <td>26.0</td>\n",
       "      <td>0.647</td>\n",
       "      <td>51</td>\n",
       "    </tr>\n",
       "    <tr>\n",
       "      <th>101</th>\n",
       "      <td>1</td>\n",
       "      <td>151</td>\n",
       "      <td>60</td>\n",
       "      <td>0</td>\n",
       "      <td>0</td>\n",
       "      <td>26.1</td>\n",
       "      <td>0.179</td>\n",
       "      <td>22</td>\n",
       "    </tr>\n",
       "    <tr>\n",
       "      <th>581</th>\n",
       "      <td>6</td>\n",
       "      <td>109</td>\n",
       "      <td>60</td>\n",
       "      <td>27</td>\n",
       "      <td>0</td>\n",
       "      <td>25.0</td>\n",
       "      <td>0.206</td>\n",
       "      <td>27</td>\n",
       "    </tr>\n",
       "    <tr>\n",
       "      <th>352</th>\n",
       "      <td>3</td>\n",
       "      <td>61</td>\n",
       "      <td>82</td>\n",
       "      <td>28</td>\n",
       "      <td>0</td>\n",
       "      <td>34.4</td>\n",
       "      <td>0.243</td>\n",
       "      <td>46</td>\n",
       "    </tr>\n",
       "    <tr>\n",
       "      <th>726</th>\n",
       "      <td>1</td>\n",
       "      <td>116</td>\n",
       "      <td>78</td>\n",
       "      <td>29</td>\n",
       "      <td>180</td>\n",
       "      <td>36.1</td>\n",
       "      <td>0.496</td>\n",
       "      <td>25</td>\n",
       "    </tr>\n",
       "  </tbody>\n",
       "</table>\n",
       "</div>"
      ],
      "text/plain": [
       "     Preg  Plas  Pres  skin  test  mass   pedi  age\n",
       "285     7   136    74    26   135  26.0  0.647   51\n",
       "101     1   151    60     0     0  26.1  0.179   22\n",
       "581     6   109    60    27     0  25.0  0.206   27\n",
       "352     3    61    82    28     0  34.4  0.243   46\n",
       "726     1   116    78    29   180  36.1  0.496   25"
      ]
     },
     "execution_count": 26,
     "metadata": {},
     "output_type": "execute_result"
    }
   ],
   "source": [
    "x_test.head()"
   ]
  },
  {
   "cell_type": "markdown",
   "id": "52149c69",
   "metadata": {},
   "source": [
    "we can see a lot of 0 (zeros)"
   ]
  },
  {
   "cell_type": "markdown",
   "id": "14272ff2",
   "metadata": {},
   "source": [
    "#### let's replace zeros with mean"
   ]
  },
  {
   "cell_type": "code",
   "execution_count": 27,
   "id": "0013f8bb",
   "metadata": {},
   "outputs": [
    {
     "data": {
      "application/javascript": [
       "\n",
       "        if (window._pyforest_update_imports_cell) { window._pyforest_update_imports_cell('import pandas as pd\\nimport matplotlib.pyplot as plt\\nimport seaborn as sns'); }\n",
       "    "
      ],
      "text/plain": [
       "<IPython.core.display.Javascript object>"
      ]
     },
     "metadata": {},
     "output_type": "display_data"
    },
    {
     "data": {
      "application/javascript": [
       "\n",
       "        if (window._pyforest_update_imports_cell) { window._pyforest_update_imports_cell('import pandas as pd\\nimport matplotlib.pyplot as plt\\nimport seaborn as sns'); }\n",
       "    "
      ],
      "text/plain": [
       "<IPython.core.display.Javascript object>"
      ]
     },
     "metadata": {},
     "output_type": "display_data"
    }
   ],
   "source": [
    "from sklearn.impute import SimpleImputer\n",
    "\n",
    "replace = SimpleImputer(missing_values = 0 , strategy = 'mean')\n",
    "\n",
    "cols = x_train.columns\n",
    "\n",
    "x_train = pd.DataFrame(replace.fit_transform(x_train))\n",
    "x_test = pd.DataFrame(replace.fit_transform(x_test))\n",
    "\n",
    "x_train.columns = cols\n",
    "x_test.columns = cols"
   ]
  },
  {
   "cell_type": "code",
   "execution_count": 28,
   "id": "b4f53886",
   "metadata": {},
   "outputs": [
    {
     "data": {
      "text/html": [
       "<div>\n",
       "<style scoped>\n",
       "    .dataframe tbody tr th:only-of-type {\n",
       "        vertical-align: middle;\n",
       "    }\n",
       "\n",
       "    .dataframe tbody tr th {\n",
       "        vertical-align: top;\n",
       "    }\n",
       "\n",
       "    .dataframe thead th {\n",
       "        text-align: right;\n",
       "    }\n",
       "</style>\n",
       "<table border=\"1\" class=\"dataframe\">\n",
       "  <thead>\n",
       "    <tr style=\"text-align: right;\">\n",
       "      <th></th>\n",
       "      <th>Preg</th>\n",
       "      <th>Plas</th>\n",
       "      <th>Pres</th>\n",
       "      <th>skin</th>\n",
       "      <th>test</th>\n",
       "      <th>mass</th>\n",
       "      <th>pedi</th>\n",
       "      <th>age</th>\n",
       "    </tr>\n",
       "  </thead>\n",
       "  <tbody>\n",
       "    <tr>\n",
       "      <th>0</th>\n",
       "      <td>15.000000</td>\n",
       "      <td>136.0</td>\n",
       "      <td>70.0</td>\n",
       "      <td>32.000000</td>\n",
       "      <td>110.000000</td>\n",
       "      <td>37.1</td>\n",
       "      <td>0.153</td>\n",
       "      <td>43.0</td>\n",
       "    </tr>\n",
       "    <tr>\n",
       "      <th>1</th>\n",
       "      <td>4.396514</td>\n",
       "      <td>97.0</td>\n",
       "      <td>64.0</td>\n",
       "      <td>36.000000</td>\n",
       "      <td>100.000000</td>\n",
       "      <td>36.8</td>\n",
       "      <td>0.600</td>\n",
       "      <td>25.0</td>\n",
       "    </tr>\n",
       "    <tr>\n",
       "      <th>2</th>\n",
       "      <td>1.000000</td>\n",
       "      <td>116.0</td>\n",
       "      <td>70.0</td>\n",
       "      <td>28.000000</td>\n",
       "      <td>158.243346</td>\n",
       "      <td>27.4</td>\n",
       "      <td>0.204</td>\n",
       "      <td>21.0</td>\n",
       "    </tr>\n",
       "    <tr>\n",
       "      <th>3</th>\n",
       "      <td>2.000000</td>\n",
       "      <td>106.0</td>\n",
       "      <td>64.0</td>\n",
       "      <td>35.000000</td>\n",
       "      <td>119.000000</td>\n",
       "      <td>30.5</td>\n",
       "      <td>1.400</td>\n",
       "      <td>34.0</td>\n",
       "    </tr>\n",
       "    <tr>\n",
       "      <th>4</th>\n",
       "      <td>4.396514</td>\n",
       "      <td>123.0</td>\n",
       "      <td>88.0</td>\n",
       "      <td>37.000000</td>\n",
       "      <td>158.243346</td>\n",
       "      <td>35.2</td>\n",
       "      <td>0.197</td>\n",
       "      <td>29.0</td>\n",
       "    </tr>\n",
       "    <tr>\n",
       "      <th>5</th>\n",
       "      <td>1.000000</td>\n",
       "      <td>143.0</td>\n",
       "      <td>84.0</td>\n",
       "      <td>23.000000</td>\n",
       "      <td>310.000000</td>\n",
       "      <td>42.4</td>\n",
       "      <td>1.076</td>\n",
       "      <td>22.0</td>\n",
       "    </tr>\n",
       "    <tr>\n",
       "      <th>6</th>\n",
       "      <td>9.000000</td>\n",
       "      <td>124.0</td>\n",
       "      <td>70.0</td>\n",
       "      <td>33.000000</td>\n",
       "      <td>402.000000</td>\n",
       "      <td>35.4</td>\n",
       "      <td>0.282</td>\n",
       "      <td>34.0</td>\n",
       "    </tr>\n",
       "    <tr>\n",
       "      <th>7</th>\n",
       "      <td>6.000000</td>\n",
       "      <td>147.0</td>\n",
       "      <td>80.0</td>\n",
       "      <td>28.672131</td>\n",
       "      <td>158.243346</td>\n",
       "      <td>29.5</td>\n",
       "      <td>0.178</td>\n",
       "      <td>50.0</td>\n",
       "    </tr>\n",
       "    <tr>\n",
       "      <th>8</th>\n",
       "      <td>6.000000</td>\n",
       "      <td>129.0</td>\n",
       "      <td>90.0</td>\n",
       "      <td>7.000000</td>\n",
       "      <td>326.000000</td>\n",
       "      <td>19.6</td>\n",
       "      <td>0.582</td>\n",
       "      <td>60.0</td>\n",
       "    </tr>\n",
       "    <tr>\n",
       "      <th>9</th>\n",
       "      <td>3.000000</td>\n",
       "      <td>130.0</td>\n",
       "      <td>78.0</td>\n",
       "      <td>23.000000</td>\n",
       "      <td>79.000000</td>\n",
       "      <td>28.4</td>\n",
       "      <td>0.323</td>\n",
       "      <td>34.0</td>\n",
       "    </tr>\n",
       "  </tbody>\n",
       "</table>\n",
       "</div>"
      ],
      "text/plain": [
       "        Preg   Plas  Pres       skin        test  mass   pedi   age\n",
       "0  15.000000  136.0  70.0  32.000000  110.000000  37.1  0.153  43.0\n",
       "1   4.396514   97.0  64.0  36.000000  100.000000  36.8  0.600  25.0\n",
       "2   1.000000  116.0  70.0  28.000000  158.243346  27.4  0.204  21.0\n",
       "3   2.000000  106.0  64.0  35.000000  119.000000  30.5  1.400  34.0\n",
       "4   4.396514  123.0  88.0  37.000000  158.243346  35.2  0.197  29.0\n",
       "5   1.000000  143.0  84.0  23.000000  310.000000  42.4  1.076  22.0\n",
       "6   9.000000  124.0  70.0  33.000000  402.000000  35.4  0.282  34.0\n",
       "7   6.000000  147.0  80.0  28.672131  158.243346  29.5  0.178  50.0\n",
       "8   6.000000  129.0  90.0   7.000000  326.000000  19.6  0.582  60.0\n",
       "9   3.000000  130.0  78.0  23.000000   79.000000  28.4  0.323  34.0"
      ]
     },
     "execution_count": 28,
     "metadata": {},
     "output_type": "execute_result"
    }
   ],
   "source": [
    "x_train.head(10)"
   ]
  },
  {
   "cell_type": "code",
   "execution_count": 29,
   "id": "00b51d8b",
   "metadata": {},
   "outputs": [
    {
     "data": {
      "text/html": [
       "<div>\n",
       "<style scoped>\n",
       "    .dataframe tbody tr th:only-of-type {\n",
       "        vertical-align: middle;\n",
       "    }\n",
       "\n",
       "    .dataframe tbody tr th {\n",
       "        vertical-align: top;\n",
       "    }\n",
       "\n",
       "    .dataframe thead th {\n",
       "        text-align: right;\n",
       "    }\n",
       "</style>\n",
       "<table border=\"1\" class=\"dataframe\">\n",
       "  <thead>\n",
       "    <tr style=\"text-align: right;\">\n",
       "      <th></th>\n",
       "      <th>Preg</th>\n",
       "      <th>Plas</th>\n",
       "      <th>Pres</th>\n",
       "      <th>skin</th>\n",
       "      <th>test</th>\n",
       "      <th>mass</th>\n",
       "      <th>pedi</th>\n",
       "      <th>age</th>\n",
       "    </tr>\n",
       "  </thead>\n",
       "  <tbody>\n",
       "    <tr>\n",
       "      <th>0</th>\n",
       "      <td>7.000000</td>\n",
       "      <td>136.0</td>\n",
       "      <td>74.0</td>\n",
       "      <td>26.00</td>\n",
       "      <td>135.000000</td>\n",
       "      <td>26.0</td>\n",
       "      <td>0.647</td>\n",
       "      <td>51.0</td>\n",
       "    </tr>\n",
       "    <tr>\n",
       "      <th>1</th>\n",
       "      <td>1.000000</td>\n",
       "      <td>151.0</td>\n",
       "      <td>60.0</td>\n",
       "      <td>30.16</td>\n",
       "      <td>150.137405</td>\n",
       "      <td>26.1</td>\n",
       "      <td>0.179</td>\n",
       "      <td>22.0</td>\n",
       "    </tr>\n",
       "    <tr>\n",
       "      <th>2</th>\n",
       "      <td>6.000000</td>\n",
       "      <td>109.0</td>\n",
       "      <td>60.0</td>\n",
       "      <td>27.00</td>\n",
       "      <td>150.137405</td>\n",
       "      <td>25.0</td>\n",
       "      <td>0.206</td>\n",
       "      <td>27.0</td>\n",
       "    </tr>\n",
       "    <tr>\n",
       "      <th>3</th>\n",
       "      <td>3.000000</td>\n",
       "      <td>61.0</td>\n",
       "      <td>82.0</td>\n",
       "      <td>28.00</td>\n",
       "      <td>150.137405</td>\n",
       "      <td>34.4</td>\n",
       "      <td>0.243</td>\n",
       "      <td>46.0</td>\n",
       "    </tr>\n",
       "    <tr>\n",
       "      <th>4</th>\n",
       "      <td>1.000000</td>\n",
       "      <td>116.0</td>\n",
       "      <td>78.0</td>\n",
       "      <td>29.00</td>\n",
       "      <td>180.000000</td>\n",
       "      <td>36.1</td>\n",
       "      <td>0.496</td>\n",
       "      <td>25.0</td>\n",
       "    </tr>\n",
       "    <tr>\n",
       "      <th>5</th>\n",
       "      <td>4.722222</td>\n",
       "      <td>119.0</td>\n",
       "      <td>66.0</td>\n",
       "      <td>27.00</td>\n",
       "      <td>150.137405</td>\n",
       "      <td>38.8</td>\n",
       "      <td>0.259</td>\n",
       "      <td>22.0</td>\n",
       "    </tr>\n",
       "    <tr>\n",
       "      <th>6</th>\n",
       "      <td>4.000000</td>\n",
       "      <td>122.0</td>\n",
       "      <td>68.0</td>\n",
       "      <td>30.16</td>\n",
       "      <td>150.137405</td>\n",
       "      <td>35.0</td>\n",
       "      <td>0.394</td>\n",
       "      <td>29.0</td>\n",
       "    </tr>\n",
       "    <tr>\n",
       "      <th>7</th>\n",
       "      <td>1.000000</td>\n",
       "      <td>119.0</td>\n",
       "      <td>54.0</td>\n",
       "      <td>13.00</td>\n",
       "      <td>50.000000</td>\n",
       "      <td>22.3</td>\n",
       "      <td>0.205</td>\n",
       "      <td>24.0</td>\n",
       "    </tr>\n",
       "    <tr>\n",
       "      <th>8</th>\n",
       "      <td>1.000000</td>\n",
       "      <td>97.0</td>\n",
       "      <td>70.0</td>\n",
       "      <td>40.00</td>\n",
       "      <td>150.137405</td>\n",
       "      <td>38.1</td>\n",
       "      <td>0.218</td>\n",
       "      <td>30.0</td>\n",
       "    </tr>\n",
       "    <tr>\n",
       "      <th>9</th>\n",
       "      <td>4.722222</td>\n",
       "      <td>105.0</td>\n",
       "      <td>64.0</td>\n",
       "      <td>41.00</td>\n",
       "      <td>142.000000</td>\n",
       "      <td>41.5</td>\n",
       "      <td>0.173</td>\n",
       "      <td>22.0</td>\n",
       "    </tr>\n",
       "  </tbody>\n",
       "</table>\n",
       "</div>"
      ],
      "text/plain": [
       "       Preg   Plas  Pres   skin        test  mass   pedi   age\n",
       "0  7.000000  136.0  74.0  26.00  135.000000  26.0  0.647  51.0\n",
       "1  1.000000  151.0  60.0  30.16  150.137405  26.1  0.179  22.0\n",
       "2  6.000000  109.0  60.0  27.00  150.137405  25.0  0.206  27.0\n",
       "3  3.000000   61.0  82.0  28.00  150.137405  34.4  0.243  46.0\n",
       "4  1.000000  116.0  78.0  29.00  180.000000  36.1  0.496  25.0\n",
       "5  4.722222  119.0  66.0  27.00  150.137405  38.8  0.259  22.0\n",
       "6  4.000000  122.0  68.0  30.16  150.137405  35.0  0.394  29.0\n",
       "7  1.000000  119.0  54.0  13.00   50.000000  22.3  0.205  24.0\n",
       "8  1.000000   97.0  70.0  40.00  150.137405  38.1  0.218  30.0\n",
       "9  4.722222  105.0  64.0  41.00  142.000000  41.5  0.173  22.0"
      ]
     },
     "execution_count": 29,
     "metadata": {},
     "output_type": "execute_result"
    }
   ],
   "source": [
    "x_test.head(10)"
   ]
  },
  {
   "cell_type": "code",
   "execution_count": 30,
   "id": "0e78e1c5",
   "metadata": {},
   "outputs": [
    {
     "data": {
      "text/plain": [
       "537"
      ]
     },
     "execution_count": 30,
     "metadata": {},
     "output_type": "execute_result"
    }
   ],
   "source": [
    "len(x_train)"
   ]
  },
  {
   "cell_type": "code",
   "execution_count": 31,
   "id": "abfc5140",
   "metadata": {},
   "outputs": [
    {
     "data": {
      "text/plain": [
       "231"
      ]
     },
     "execution_count": 31,
     "metadata": {},
     "output_type": "execute_result"
    }
   ],
   "source": [
    "len(x_test)"
   ]
  },
  {
   "cell_type": "markdown",
   "id": "4d4c8b1a",
   "metadata": {},
   "source": [
    "# Logistic Regression Model"
   ]
  },
  {
   "cell_type": "code",
   "execution_count": 32,
   "id": "bf532d07",
   "metadata": {},
   "outputs": [],
   "source": [
    "from sklearn.linear_model import LogisticRegression\n",
    "\n",
    "from sklearn import metrics"
   ]
  },
  {
   "cell_type": "code",
   "execution_count": 33,
   "id": "f337b937",
   "metadata": {},
   "outputs": [
    {
     "data": {
      "text/plain": [
       "LogisticRegression(solver='liblinear')"
      ]
     },
     "execution_count": 33,
     "metadata": {},
     "output_type": "execute_result"
    }
   ],
   "source": [
    "# building the model\n",
    "\n",
    "model = LogisticRegression(solver='liblinear')\n",
    "model.fit(x_train,y_train)"
   ]
  },
  {
   "cell_type": "code",
   "execution_count": 34,
   "id": "b338592b",
   "metadata": {},
   "outputs": [
    {
     "data": {
      "text/plain": [
       "array([0, 0, 0, 0, 0, 0, 0, 0, 0, 0, 0, 0, 1, 1, 0, 1, 0, 0, 0, 0, 0, 0,\n",
       "       1, 0, 0, 0, 0, 1, 0, 0, 0, 0, 0, 1, 0, 1, 0, 0, 0, 1, 0, 0, 0, 0,\n",
       "       0, 0, 1, 1, 0, 0, 0, 0, 1, 0, 1, 0, 0, 0, 1, 0, 1, 0, 1, 0, 0, 0,\n",
       "       0, 0, 1, 1, 1, 1, 1, 0, 1, 0, 1, 0, 0, 1, 0, 0, 0, 0, 0, 0, 1, 0,\n",
       "       0, 0, 0, 0, 0, 0, 1, 0, 0, 0, 1, 0, 0, 0, 0, 0, 0, 0, 1, 1, 0, 0,\n",
       "       0, 0, 0, 0, 1, 0, 0, 0, 0, 0, 0, 1, 0, 0, 0, 0, 0, 0, 1, 0, 1, 0,\n",
       "       0, 0, 0, 0, 0, 1, 0, 0, 1, 0, 0, 1, 1, 1, 0, 0, 0, 0, 0, 1, 0, 0,\n",
       "       1, 1, 0, 0, 0, 0, 1, 1, 0, 0, 0, 0, 0, 1, 1, 1, 1, 1, 0, 0, 1, 0,\n",
       "       1, 0, 0, 0, 0, 1, 0, 1, 0, 0, 0, 1, 0, 0, 0, 0, 0, 0, 1, 0, 0, 0,\n",
       "       0, 1, 1, 0, 0, 0, 1, 1, 0, 0, 0, 1, 0, 1, 0, 1, 0, 0, 0, 0, 0, 0,\n",
       "       0, 0, 0, 1, 0, 0, 0, 0, 0, 1, 0], dtype=int64)"
      ]
     },
     "execution_count": 34,
     "metadata": {},
     "output_type": "execute_result"
    }
   ],
   "source": [
    "# ok model is builded now let us introduce          test data to it\n",
    "\n",
    "y_predict = model.predict(x_test)\n",
    "y_predict"
   ]
  },
  {
   "cell_type": "code",
   "execution_count": 35,
   "id": "31a243bf",
   "metadata": {},
   "outputs": [],
   "source": [
    "model_score = model.score(x_test,y_test)"
   ]
  },
  {
   "cell_type": "code",
   "execution_count": 36,
   "id": "a3318d68",
   "metadata": {},
   "outputs": [
    {
     "name": "stdout",
     "output_type": "stream",
     "text": [
      "0.7792207792207793\n"
     ]
    }
   ],
   "source": [
    "print(model_score)                      # 0.7792207792207793       is not bad for this small data set"
   ]
  },
  {
   "cell_type": "code",
   "execution_count": 37,
   "id": "390a4e86",
   "metadata": {},
   "outputs": [
    {
     "data": {
      "application/javascript": [
       "\n",
       "        if (window._pyforest_update_imports_cell) { window._pyforest_update_imports_cell('import pandas as pd\\nimport matplotlib.pyplot as plt\\nimport seaborn as sns'); }\n",
       "    "
      ],
      "text/plain": [
       "<IPython.core.display.Javascript object>"
      ]
     },
     "metadata": {},
     "output_type": "display_data"
    },
    {
     "data": {
      "application/javascript": [
       "\n",
       "        if (window._pyforest_update_imports_cell) { window._pyforest_update_imports_cell('import pandas as pd\\nimport matplotlib.pyplot as plt\\nimport seaborn as sns'); }\n",
       "    "
      ],
      "text/plain": [
       "<IPython.core.display.Javascript object>"
      ]
     },
     "metadata": {},
     "output_type": "display_data"
    },
    {
     "data": {
      "application/javascript": [
       "\n",
       "        if (window._pyforest_update_imports_cell) { window._pyforest_update_imports_cell('import pandas as pd\\nimport matplotlib.pyplot as plt\\nimport seaborn as sns'); }\n",
       "    "
      ],
      "text/plain": [
       "<IPython.core.display.Javascript object>"
      ]
     },
     "metadata": {},
     "output_type": "display_data"
    },
    {
     "data": {
      "text/plain": [
       "<AxesSubplot:>"
      ]
     },
     "execution_count": 37,
     "metadata": {},
     "output_type": "execute_result"
    },
    {
     "data": {
      "image/png": "[encoded data removed]",
      "text/plain": [
       "<Figure size 800x600 with 2 Axes>"
      ]
     },
     "metadata": {},
     "output_type": "display_data"
    }
   ],
   "source": [
    "# now let us see which are getting both good & wrong prediction @ a time\n",
    "\n",
    "cm = metrics.confusion_matrix(y_test,y_predict,labels=[1,0])\n",
    "\n",
    "df_cm = pd.DataFrame(cm,index = [i for i in ['1','0']], columns = [ i for i in ['Predict 1','Predict 0']])\n",
    "\n",
    "plt.figure(figsize=(8,6))\n",
    "sns.heatmap(df_cm,annot=True)"
   ]
  },
  {
   "cell_type": "markdown",
   "id": "f5ad2de1",
   "metadata": {},
   "source": [
    "here both 37 & 14 are false, negative pridiction  actually causes problem in production , so in future we will try to limit those things"
   ]
  },
  {
   "cell_type": "code",
   "execution_count": null,
   "id": "1a1a49ac",
   "metadata": {},
   "outputs": [],
   "source": []
  },
  {
   "cell_type": "code",
   "execution_count": null,
   "id": "3b24b0c7",
   "metadata": {},
   "outputs": [],
   "source": []
  },
  {
   "cell_type": "code",
   "execution_count": null,
   "id": "e9e63aca",
   "metadata": {},
   "outputs": [],
   "source": []
  },
  {
   "cell_type": "code",
   "execution_count": null,
   "id": "3ac52c42",
   "metadata": {},
   "outputs": [],
   "source": []
  }
 ],
 "metadata": {
  "kernelspec": {
   "display_name": "Python 3 (ipykernel)",
   "language": "python",
   "name": "python3"
  },
  "language_info": {
   "codemirror_mode": {
    "name": "ipython",
    "version": 3
   },
   "file_extension": ".py",
   "mimetype": "text/x-python",
   "name": "python",
   "nbconvert_exporter": "python",
   "pygments_lexer": "ipython3",
   "version": "3.9.13"
  }
 },
 "nbformat": 4,
 "nbformat_minor": 5
}
